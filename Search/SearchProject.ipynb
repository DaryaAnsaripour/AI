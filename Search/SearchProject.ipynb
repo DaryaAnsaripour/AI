{
  "cells": [
    {
      "cell_type": "markdown",
      "metadata": {},
      "source": [
        "# Darya Ansaripour, 610300022\n",
        "## CA1 report"
      ]
    },
    {
      "cell_type": "code",
      "execution_count": 2,
      "metadata": {
        "id": "-_u9GISI2vYT"
      },
      "outputs": [],
      "source": [
        "import random\n",
        "import heapq\n",
        "from dataclasses import dataclass, field\n",
        "from typing import List, Tuple, Callable, Any, Set\n",
        "import numpy as np\n",
        "from time import time\n",
        "from tabulate import tabulate\n",
        "import threading\n",
        "import collections\n",
        "from math import ceil\n",
        "from enum import Enum\n",
        "from functools import partial\n",
        "from copy import deepcopy"
      ]
    },
    {
      "cell_type": "markdown",
      "metadata": {},
      "source": [
        "### Question 1) \n",
        "Approach 1.\n",
        "\n",
        "_Initial state:_ Initial puzzle given by test case.<br>\n",
        "_Goal state:_ A puzzle which has no 1 elements. (All lights are turned off.)<br>\n",
        "_Action:_ Toggling a light placed in (x,y).<br>\n",
        "_State:_ I considered two states same if and only if one can be converted to other by rotations or flips. This will lead to fewer number of nodes being expanded. (look at \"eq\" function for LightsOutPuzzle)\n",
        "\n",
        "-------------------------------------------------------------------------------------------------------------------------------------------\n",
        "Approach 2.\n",
        "\n",
        "Another approach I tested for state defining (but not used):<br>\n",
        "Define _bitrepr_ of a state as an integer value which indicates the board uniquely. We can treat each entry as a bit of a $n^2$-digit binary number, by calculating the corresponding decimal value each board can be represented uniquely. This way of representation results in easier search and memory efficiency. \n",
        "\n",
        "_Initial state:_ Is _bitrepr_ of initial board. <br>\n",
        "_Goal state:_ A puzzle which has _bitrepr_ equal to zero. <br>\n",
        "_Action:_ Toggling a light placed in (x,y). By XORing the _bitrepr_ with 1<<$(n^2-1-(nx+y))$. <br>\n",
        "_State:_ I considered two states same if and only if they have same _bitrepr_ (This unfortunately does not reduce number of states being checked, since It takes time to find rotations' _bitrepr_ values.)\n"
      ]
    },
    {
      "cell_type": "code",
      "execution_count": 3,
      "metadata": {
        "id": "f9kNLENs2vYW"
      },
      "outputs": [],
      "source": [
        "class LightsOutPuzzle:\n",
        "    def __init__(self, board: List[List[int]]):\n",
        "        self.board = np.array(board, dtype=np.uint8)\n",
        "        self.size = len(board)\n",
        "\n",
        "    def toggle(self, x, y):\n",
        "        for dx, dy in [(0, 0), (1, 0), (-1, 0), (0, 1), (0, -1)]:\n",
        "            nx, ny = x + dx, y + dy\n",
        "            if 0 <= nx < self.size and 0 <= ny < self.size:\n",
        "                self.board[nx, ny] ^= 1\n",
        "\n",
        "\n",
        "    def is_solved(self):\n",
        "        return np.all(self.board == 0)\n",
        "\n",
        "    def get_moves(self):\n",
        "        return [(x, y) for x in range(self.size) for y in range(self.size)]\n",
        "    \n",
        "    def get_transformations(self):\n",
        "        rotations = [self.board, np.rot90(self.board), np.rot90(self.board,2), np.rot90(self.board,3)]\n",
        "        syms = [np.flip(self.board), np.flip(np.rot90(self.board)), np.flip(np.rot90(self.board,2)), np.flip(np.rot90(self.board,3))]\n",
        "        return rotations+syms\n",
        "\n",
        "    def __str__(self):\n",
        "        return '\\n'.join(' '.join(str(cell) for cell in row) for row in self.board)\n",
        "    \n",
        "    def __lt__(self,other):\n",
        "        return np.sum(self.board)<np.sum(other.board)\n",
        "    \n",
        "    def __hash__(self):\n",
        "        return hash(tuple(map(tuple,self.board)))\n",
        "    \n",
        "    def __eq__(self, other):\n",
        "        if not isinstance(other, LightsOutPuzzle):\n",
        "            return False      \n",
        "        # return any(np.array_equal(tr, other.board) for tr in self.get_transformations())\n",
        "        return (np.array_equal(self.board, other.board))\n",
        "        \n",
        "\n"
      ]
    },
    {
      "cell_type": "code",
      "execution_count": 4,
      "metadata": {},
      "outputs": [],
      "source": [
        "class LightsOutPuzzleBIT:\n",
        "    def __init__(self, board: List[List[int]]):\n",
        "        self.board = np.array(board, dtype=np.uint8)\n",
        "        self.size = len(board)\n",
        "\n",
        "        self.bitrepr = self.board_to_bit()\n",
        "\n",
        "    def board_to_bit(self) -> int:\n",
        "        bit = 0\n",
        "        for row in self.board:\n",
        "            for cell in row:\n",
        "                bit = (bit << 1) | cell\n",
        "        return int(bit)\n",
        "\n",
        "    def toggle(self, x, y):\n",
        "        for dx, dy in [(0, 0), (1, 0), (-1, 0), (0, 1), (0, -1)]:\n",
        "            nx, ny = x + dx, y + dy\n",
        "            if 0 <= nx < self.size and 0 <= ny < self.size:\n",
        "                self.bitrepr ^= 1 << (self.size*self.size - 1 - (nx * self.size + ny))\n",
        "\n",
        "    def toggleboard(self, x, y):\n",
        "        for dx, dy in [(0, 0), (1, 0), (-1, 0), (0, 1), (0, -1)]:\n",
        "            nx, ny = x + dx, y + dy\n",
        "            if 0 <= nx < self.size and 0 <= ny < self.size:\n",
        "                self.board[nx,ny] ^= 1\n",
        "\n",
        "    def is_solved(self):\n",
        "        return self.bitrepr == 0\n",
        "\n",
        "    def get_moves(self):\n",
        "        return [(x, y) for x in range(self.size) for y in range(self.size)]\n",
        "\n",
        "    def __str__(self):\n",
        "        return '\\n'.join(' '.join(str(cell) for cell in row) for row in self.board)\n",
        "    \n",
        "    def __lt__(self,other):\n",
        "        return np.sum(self.board)<np.sum(other.board)\n",
        "    \n",
        "    def __hash__(self):\n",
        "        return self.bitrepr\n",
        "    \n",
        "    def __eq__(self,other):\n",
        "        if not isinstance(other, LightsOutPuzzle):\n",
        "            return False      \n",
        "        return self.bitrepr == other.bitrepr"
      ]
    },
    {
      "cell_type": "code",
      "execution_count": 5,
      "metadata": {
        "id": "6uQSnZiC2vYX"
      },
      "outputs": [],
      "source": [
        "def create_random_board(size: int,  seed: int, num_toggles: int = None):\n",
        "    random.seed(time() if seed is None else seed)\n",
        "\n",
        "    board = [[0 for _ in range(size)] for _ in range(size)]\n",
        "    puzzle = LightsOutPuzzle(board)\n",
        "\n",
        "    if num_toggles is None:\n",
        "        num_toggles = random.randint(1, size * size)\n",
        "\n",
        "    for _ in range(num_toggles):\n",
        "        x = random.randint(0, size - 1)\n",
        "        y = random.randint(0, size - 1)\n",
        "        puzzle.toggle(x, y)\n",
        "\n",
        "    return puzzle.board"
      ]
    },
    {
      "cell_type": "code",
      "execution_count": 6,
      "metadata": {
        "id": "1uX5N45l2vYY"
      },
      "outputs": [],
      "source": [
        "def show_solution(\n",
        "    puzzle: LightsOutPuzzle,\n",
        "    solution: List[Tuple[int, int]],\n",
        "    algorithm_name: str,\n",
        "    nodes_visited: int,\n",
        "    show_steps: bool = False,\n",
        "):\n",
        "    print(f\"\\nSolving with {algorithm_name}:\")\n",
        "    if solution is None:\n",
        "        print(\"No solution found.\")\n",
        "        return\n",
        "    print(f\"Solution: {solution}\")\n",
        "    print(f\"Nodes visited: {nodes_visited}\")\n",
        "    if show_steps:\n",
        "        print(\"\\nSolution steps:\")\n",
        "        for i, move in enumerate(solution):\n",
        "            print(f\"\\nStep {i+1}: Toggle position {move}\")\n",
        "            puzzle.toggle(*move)\n",
        "            print(puzzle)\n",
        "        print(\n",
        "            \"\\nFinal state (solved):\"\n",
        "            if puzzle.is_solved()\n",
        "            else \"\\nFinal state (not solved):\"\n",
        "        )\n",
        "        print(puzzle)"
      ]
    },
    {
      "cell_type": "code",
      "execution_count": 7,
      "metadata": {
        "id": "Mo-jd9Ta2vYY"
      },
      "outputs": [],
      "source": [
        "tests = [\n",
        "    # create_random_board(3, 42),\n",
        "    # create_random_board(3, 41),\n",
        "    # create_random_board(3, 42, 5),\n",
        "    # create_random_board(4, 42),\n",
        "    # create_random_board(4, 41),\n",
        "    # create_random_board(4, 42, 5),\n",
        "    create_random_board(5, 42),\n",
        "    create_random_board(5, 41),\n",
        "    # create_random_board(5, 42, 5),\n",
        "]"
      ]
    },
    {
      "cell_type": "markdown",
      "metadata": {},
      "source": [
        "### Question 2) BFS\n",
        "BFS explores all possible board states level by level, starting from the initial board configuration. It toggles lights to generate new states, ensuring that it explores all states with fewer moves before considering those with more moves.\n",
        "\n",
        "_Pros:_\n",
        "BFS is complete, meaning it will find a solution if one exists. It is optimal for this type of puzzle, since it guarantees finding the shortest path (minimum number of moves) to solve the puzzle. Here the optimality of BFS is a result of equal costs per moves.\n",
        "\n",
        "_Cons:_\n",
        "BFS is memory-intensive, as it needs to store all possible states at each level. For a larger puzzle like a 5x5 grid, the number of possible board states grows exponentially, making BFS impractical for large grids due to high memory and time requirements. I used set to reduce search load in visited nodes.\n"
      ]
    },
    {
      "cell_type": "code",
      "execution_count": 8,
      "metadata": {
        "id": "z5fPu1JC2vYY"
      },
      "outputs": [],
      "source": [
        "# TODO: Must return a list of tuples and the number of visited nodes\n",
        "def bfs_solve(puzzle: LightsOutPuzzle) -> Tuple[List[Tuple[int, int]], int]:\n",
        "\n",
        "    # initial state, moves, number of moves\n",
        "    q = collections.deque()\n",
        "    q.append([puzzle, []])\n",
        "\n",
        "    visited = set()\n",
        "    visited.add(hash(puzzle))\n",
        "    nodes_visited = 1\n",
        "\n",
        "    while q:\n",
        "        current_state, moves = q.popleft()\n",
        "\n",
        "        if(current_state.is_solved()):\n",
        "            return moves, nodes_visited\n",
        "        \n",
        "        for move in puzzle.get_moves():\n",
        "            x,y = move\n",
        "            new_puzzle = LightsOutPuzzle(deepcopy(current_state.board))\n",
        "            new_puzzle.toggle(x, y)\n",
        "\n",
        "            # This condition may be omitted for sake of optimality.\n",
        "            if hash(new_puzzle) not in visited:\n",
        "                nodes_visited+=1\n",
        "                visited.add(hash(new_puzzle))\n",
        "                new_moves = deepcopy(moves)\n",
        "                new_moves.append(move)\n",
        "                q.append([new_puzzle, new_moves])\n",
        "\n",
        "\n",
        "    return None, nodes_visited"
      ]
    },
    {
      "cell_type": "code",
      "execution_count": 9,
      "metadata": {},
      "outputs": [],
      "source": [
        "# puzzle = LightsOutPuzzle([[0,1,1,0],[1,0,0,1],[0,1,1,0],[0,0,0,0]])\n",
        "# puzzle = LightsOutPuzzle(tests[-1])\n",
        "# print(bfs_solve(puzzle))"
      ]
    },
    {
      "cell_type": "markdown",
      "metadata": {},
      "source": [
        "### Question 2) IDS\n",
        "IDS repeatedly applies DFS with increasing depth limits.\n",
        "\n",
        "_Pros:_\n",
        "Unlike BFS, IDS uses much less memory since it only needs to store a single path from the root to the current state. (In terms of memory it is more similar to DFS than BFS.)\n",
        "IDS guarantees finding a solution if one exists and returns the shortest solution, similar to BFS, as it explores all states with minimal moves first. (In terms of finding optimum solution it is more similar to BFS than DFS.)\n",
        "\n",
        "_Cons:_\n",
        "IDS revisits states multiple times at different depths so it can be slower than BFS. This can lead to unnecessary recomputation, so it may be less efficient in terms of time.\n",
        "\n",
        "_Note:_ It worths to mention that neither BFS nor IDS result in getting into a loop. But I saved the visited nodes for sake of time efficiency, This may result in nonoptimality of BFS, one can do this for IDS too but as before the goal path may not be optimal"
      ]
    },
    {
      "cell_type": "code",
      "execution_count": 10,
      "metadata": {
        "id": "IBtDQ20y2vYZ"
      },
      "outputs": [],
      "source": [
        "# TODO: Must return a list of tuples and the number of visited nodes\n",
        "\n",
        "def depth_limited_search(puzzle: LightsOutPuzzle, depth: int, path: List[Tuple[int, int]], visited: List[LightsOutPuzzle]) -> Tuple[List[Tuple[int, int]], int] :\n",
        "\n",
        "    if puzzle.is_solved():\n",
        "        return path\n",
        "    \n",
        "    if depth == 0:\n",
        "        return None\n",
        "    \n",
        "    for move in puzzle.get_moves():\n",
        "        x,y = move\n",
        "        new_puzzle = LightsOutPuzzle(deepcopy(puzzle.board))\n",
        "        new_puzzle.toggle(x,y)\n",
        "\n",
        "        # One can put a condition here to avoid expanding similar nodes.\n",
        "        # if hash(new_puzzle) not in visited:\n",
        "        visited.add(hash(new_puzzle))\n",
        "        result = depth_limited_search(new_puzzle, depth-1, path+[(x,y)], visited)\n",
        "        if result is not None:\n",
        "            return result\n",
        "    return None\n",
        "        \n",
        "        \n",
        "def ids_solve(puzzle: LightsOutPuzzle) -> Tuple[List[Tuple[int, int]], int]:\n",
        "    nodes_visited = 0\n",
        "    depth = 0\n",
        "\n",
        "    while depth<=(puzzle.size**2):\n",
        "        visited = set()\n",
        "        visited.add(hash(puzzle))\n",
        "        result = depth_limited_search(puzzle, depth, [], visited)\n",
        "        nodes_visited += len(visited)\n",
        "        if result is not None:\n",
        "            return result, nodes_visited\n",
        "        depth += 1\n",
        "    return None, nodes_visited\n",
        "\n"
      ]
    },
    {
      "cell_type": "code",
      "execution_count": 11,
      "metadata": {},
      "outputs": [],
      "source": [
        "# puzzle = LightsOutPuzzle([[0,1,1,0],[1,0,0,1],[0,1,1,0],[0,0,0,0]])\n",
        "# puzzle = LightsOutPuzzle(tests[-1])\n",
        "# print(tests[-1])\n",
        "# print(ids_solve(puzzle))"
      ]
    },
    {
      "cell_type": "markdown",
      "metadata": {},
      "source": [
        "### Question 2) A*\n",
        "In the Lights Out puzzle, A* search is a heuristic-based search algorithm that combines the exploration of paths like BFS but uses a heuristic to guide the search towards the goal more efficiently.\n",
        "\n",
        "_Pros:_\n",
        "When we use a good heuristic, A* is highly efficient, because it focuses on exploring the most promising states first, resulting in reducing the number of nodes expanded compared to BFS or IDS.\n",
        "Also A* guarantees finding the shortest solution if the heuristic is admissible (never overestimates the actual cost).\n",
        "\n",
        "_Cons:_\n",
        "Like BFS, A* needs to keep track of all visited states, which can require significant memory.\n",
        "The effectiveness of A* heavily relies on the quality of the heuristic. A bad heuristic can lead to slower performance."
      ]
    },
    {
      "cell_type": "code",
      "execution_count": 12,
      "metadata": {
        "id": "2Z0sHYTm2vYZ"
      },
      "outputs": [],
      "source": [
        "# TODO: Must return a list of tuples and the number of visited nodes\n",
        "import sys\n",
        "\n",
        "def astar_solve(puzzle: LightsOutPuzzle, heuristic: Callable[[LightsOutPuzzle], int]) -> Tuple[List[Tuple[int, int]], int]:\n",
        "\n",
        "    pq = []\n",
        "    initial = (heuristic(puzzle), 0, puzzle, []) # (f(n), g(n), puzzle, path)\n",
        "    heapq.heappush(pq, initial)\n",
        "    visited = set()\n",
        "    cnt = 0\n",
        "\n",
        "    while pq:\n",
        "        # if cnt % 1000 == 0:\n",
        "        #     sys.stdout.write(f\"\\r Nodes so far: {cnt}\")\n",
        "        #     sys.stdout.flush()\n",
        "    \n",
        "        curr_f, curr_g, curr_state, curr_path= heapq.heappop(pq)\n",
        "\n",
        "        if curr_state.is_solved():\n",
        "            return curr_path, cnt\n",
        "\n",
        "        visited.add(hash(curr_state))\n",
        "\n",
        "\n",
        "        for move in curr_state.get_moves():\n",
        "            x,y = move\n",
        "            new_puzzle = LightsOutPuzzle(deepcopy(curr_state.board))\n",
        "            new_puzzle.toggle(x,y)\n",
        "            if hash(new_puzzle) not in visited:\n",
        "                cnt += 1\n",
        "                new_path = curr_path + [(x,y)]\n",
        "                new_g = curr_g + 1\n",
        "                new_h = heuristic(new_puzzle)\n",
        "                new_f = new_h + new_g\n",
        "                heapq.heappush(pq, (new_f, new_g, new_puzzle, new_path))\n",
        "                \n",
        "    \n",
        "    return None, cnt\n"
      ]
    },
    {
      "cell_type": "markdown",
      "metadata": {},
      "source": [
        "### Question 3) Heuristics\n",
        "Take heuristic1 as number of on lights, and heuristic2 as number of on lights divided by 5.\n",
        "\n",
        "First heuristic is not admissible, Take [[1,1,0],[1,0,0],[0,0,0]] as a counterexample, heuristic1 gives 3, but we can reach goal state by 1 move (just toggle (0,0)), so it overestimates the cost hence it's neither admissible nor consistent.\n",
        "\n",
        "Unlike first heuristic, second one is an admissible and consistent heuristic. It is admissible because, by toggling a light we can turn 5 lights off at best, so the total cost is always more than or equal to the number of lights divided by 5.\n",
        "It is consistent too, assume that reaching from state $s_1$ to $s_2$ takes 1 as cost, then we have to prove that $h(s_1)-h(s_2) \\leq 1$, by toggling a light, total number of lights will add by $k \\in  \\{0,\\pm 1,\\pm 2,\\pm 3,\\pm 4,\\pm 5\\}$, so $h(s_2) = \\frac{5h(s_1) + k}{5}$, hence $h(s_1)-h(s_2) = \\frac{k}{5}$ which is less than 1 anyway! By induction on $c(s_1,s_2)$ it's easy to prove that $h(s_1)-h(s_2) \\leq c(s_1,s_2)$ for all pair of states.\n",
        "\n",
        "-----------------------------------------------------------------------------------------------------------------\n",
        "\n",
        "_Other heuristics:_ I had some ideas for other heuristics, for example one can solve the problem for each state by using the linear algebraic solution and use it as a heuristic which is admissible indeed, but it brings an overhead that is not demanded. In general there is a trade off between how much a heuristic is near the actual cost and how much work does it imply. "
      ]
    },
    {
      "cell_type": "code",
      "execution_count": 13,
      "metadata": {},
      "outputs": [],
      "source": [
        "# TODO: Implement heuristic functions and store them in the list\n",
        "\n",
        "def heuristic1(puzzle: LightsOutPuzzle):\n",
        "  return np.sum(puzzle.board)\n",
        "\n",
        "def heuristic2(puzzle: LightsOutPuzzle):\n",
        "  return np.sum(puzzle.board)/5\n",
        "\n",
        "def heuristic3(puzzle: LightsOutPuzzle):\n",
        "  sum = 0\n",
        "  for i in range(puzzle.size):\n",
        "    for j in range(puzzle.size):\n",
        "      sum += puzzle.board[i][j]*(i+j)\n",
        "  return sum\n",
        "heuristics = [heuristic1]"
      ]
    },
    {
      "cell_type": "code",
      "execution_count": 14,
      "metadata": {
        "id": "bhzzdA8Ec196"
      },
      "outputs": [],
      "source": [
        "# TODO: Implement weighted heuristic functions and store them in the list\n",
        "def weighted_heuristic1(puzzle: LightsOutPuzzle, alpha = 5):\n",
        "  return heuristic1(puzzle) * alpha\n",
        "\n",
        "def weighted_heuristic2(puzzle: LightsOutPuzzle, alpha = 5):\n",
        "  return heuristic1(puzzle) * alpha\n",
        "\n",
        "weighted_heuristics = [weighted_heuristic1]\n",
        "\n",
        "# TODO: assign 2 weights you wanna run\n",
        "weights = [2, 5]"
      ]
    },
    {
      "cell_type": "code",
      "execution_count": 15,
      "metadata": {},
      "outputs": [
        {
          "name": "stdout",
          "output_type": "stream",
          "text": [
            "[[0 0 0 0 1]\n",
            " [1 0 0 1 0]\n",
            " [0 0 0 1 1]\n",
            " [0 1 0 1 1]\n",
            " [1 1 0 1 0]]\n"
          ]
        },
        {
          "ename": "KeyboardInterrupt",
          "evalue": "",
          "output_type": "error",
          "traceback": [
            "\u001b[1;31m---------------------------------------------------------------------------\u001b[0m",
            "\u001b[1;31mKeyboardInterrupt\u001b[0m                         Traceback (most recent call last)",
            "Cell \u001b[1;32mIn[15], line 3\u001b[0m\n\u001b[0;32m      1\u001b[0m puzzle \u001b[38;5;241m=\u001b[39m LightsOutPuzzle(tests[\u001b[38;5;241m0\u001b[39m])\n\u001b[0;32m      2\u001b[0m \u001b[38;5;28mprint\u001b[39m(tests[\u001b[38;5;241m0\u001b[39m])\n\u001b[1;32m----> 3\u001b[0m moves, cnt \u001b[38;5;241m=\u001b[39m \u001b[43mastar_solve\u001b[49m\u001b[43m(\u001b[49m\u001b[43mpuzzle\u001b[49m\u001b[43m,\u001b[49m\u001b[43mheuristic2\u001b[49m\u001b[43m)\u001b[49m\n\u001b[0;32m      4\u001b[0m \u001b[38;5;28mprint\u001b[39m(\u001b[38;5;124m\"\u001b[39m\u001b[38;5;130;01m\\n\u001b[39;00m\u001b[38;5;124m\"\u001b[39m,moves,cnt)\n",
            "Cell \u001b[1;32mIn[12], line 27\u001b[0m, in \u001b[0;36mastar_solve\u001b[1;34m(puzzle, heuristic)\u001b[0m\n\u001b[0;32m     25\u001b[0m \u001b[38;5;28;01mfor\u001b[39;00m move \u001b[38;5;129;01min\u001b[39;00m curr_state\u001b[38;5;241m.\u001b[39mget_moves():\n\u001b[0;32m     26\u001b[0m     x,y \u001b[38;5;241m=\u001b[39m move\n\u001b[1;32m---> 27\u001b[0m     new_puzzle \u001b[38;5;241m=\u001b[39m LightsOutPuzzle(\u001b[43mdeepcopy\u001b[49m\u001b[43m(\u001b[49m\u001b[43mcurr_state\u001b[49m\u001b[38;5;241;43m.\u001b[39;49m\u001b[43mboard\u001b[49m\u001b[43m)\u001b[49m)\n\u001b[0;32m     28\u001b[0m     new_puzzle\u001b[38;5;241m.\u001b[39mtoggle(x,y)\n\u001b[0;32m     29\u001b[0m     \u001b[38;5;28;01mif\u001b[39;00m \u001b[38;5;28mhash\u001b[39m(new_puzzle) \u001b[38;5;129;01mnot\u001b[39;00m \u001b[38;5;129;01min\u001b[39;00m visited:\n",
            "File \u001b[1;32mc:\\Users\\Asus\\AppData\\Local\\Programs\\Python\\Python312\\Lib\\copy.py:143\u001b[0m, in \u001b[0;36mdeepcopy\u001b[1;34m(x, memo, _nil)\u001b[0m\n\u001b[0;32m    141\u001b[0m copier \u001b[38;5;241m=\u001b[39m \u001b[38;5;28mgetattr\u001b[39m(x, \u001b[38;5;124m\"\u001b[39m\u001b[38;5;124m__deepcopy__\u001b[39m\u001b[38;5;124m\"\u001b[39m, \u001b[38;5;28;01mNone\u001b[39;00m)\n\u001b[0;32m    142\u001b[0m \u001b[38;5;28;01mif\u001b[39;00m copier \u001b[38;5;129;01mis\u001b[39;00m \u001b[38;5;129;01mnot\u001b[39;00m \u001b[38;5;28;01mNone\u001b[39;00m:\n\u001b[1;32m--> 143\u001b[0m     y \u001b[38;5;241m=\u001b[39m \u001b[43mcopier\u001b[49m\u001b[43m(\u001b[49m\u001b[43mmemo\u001b[49m\u001b[43m)\u001b[49m\n\u001b[0;32m    144\u001b[0m \u001b[38;5;28;01melse\u001b[39;00m:\n\u001b[0;32m    145\u001b[0m     reductor \u001b[38;5;241m=\u001b[39m dispatch_table\u001b[38;5;241m.\u001b[39mget(\u001b[38;5;28mcls\u001b[39m)\n",
            "\u001b[1;31mKeyboardInterrupt\u001b[0m: "
          ]
        }
      ],
      "source": [
        "puzzle = LightsOutPuzzle(tests[0])\n",
        "print(tests[0])\n",
        "moves, cnt = astar_solve(puzzle,heuristic2)\n",
        "print(\"\\n\",moves,cnt)"
      ]
    },
    {
      "cell_type": "code",
      "execution_count": 19,
      "metadata": {},
      "outputs": [
        {
          "name": "stdout",
          "output_type": "stream",
          "text": [
            "[[1 0 1 0 1]\n",
            " [1 0 0 1 1]\n",
            " [0 1 0 0 0]\n",
            " [1 0 0 1 0]\n",
            " [1 1 0 0 1]]\n",
            "\n",
            " [(4, 0), (0, 1), (1, 1), (3, 4), (2, 4), (1, 3), (0, 4)] 3574\n"
          ]
        }
      ],
      "source": [
        "puzzle = LightsOutPuzzle(tests[1])\n",
        "print(tests[1])\n",
        "moves, cnt = astar_solve(puzzle,heuristic1)\n",
        "print(\"\\n\",moves,cnt)"
      ]
    },
    {
      "cell_type": "code",
      "execution_count": 34,
      "metadata": {
        "id": "8BEBUOvO2vYa"
      },
      "outputs": [],
      "source": [
        "class SearchStatus(Enum):\n",
        "    SOLVED = \"Solved\"\n",
        "    TIMEOUT = \"Timeout\"\n",
        "    NO_SOLUTION = \"No Solution\"\n",
        "\n",
        "@dataclass\n",
        "class SearchResult:\n",
        "    result: SearchStatus\n",
        "    solution: Any = None\n",
        "    nodes_visited: int = None\n",
        "    time: float = None\n",
        "\n",
        "    def __str__(self):\n",
        "        output = f\"Result: {self.result.value}\\n\"\n",
        "        if self.result == SearchStatus.SOLVED:\n",
        "            output += f\"Solution: {self.solution}\\n\"\n",
        "        if self.result != SearchStatus.TIMEOUT:\n",
        "            output += f\"Nodes Visited: {self.nodes_visited}\\n\"\n",
        "            output += f\"Time Taken: {self.time:.3f} seconds\\n\"\n",
        "\n",
        "        return output\n",
        "\n",
        "\n",
        "DEFAULT_SEARCH_RESULT = SearchResult(SearchStatus.TIMEOUT, None, None, float(\"inf\"))"
      ]
    },
    {
      "cell_type": "code",
      "execution_count": 35,
      "metadata": {
        "id": "nJDcqmA_2vYa"
      },
      "outputs": [],
      "source": [
        "def run_searches(func: Callable, args: Any, time_limit: float = 60.0, name: str = \"\") -> SearchResult:\n",
        "    result = []\n",
        "\n",
        "    def target():\n",
        "        try:\n",
        "            solution, nodes_visited = func(*args)\n",
        "            result.append((solution, nodes_visited))\n",
        "        except Exception as e:\n",
        "            result.append(e)\n",
        "\n",
        "    thread = threading.Thread(target=target)\n",
        "    thread.start()\n",
        "\n",
        "    start_time = time()\n",
        "    thread.join(timeout=time_limit)\n",
        "\n",
        "    if thread.is_alive() or not result:\n",
        "        print(f\"\\nTime limit of {time_limit} seconds exceeded for {name}\")\n",
        "        return SearchResult(SearchStatus.TIMEOUT)\n",
        "\n",
        "    if isinstance(result[0], Exception):\n",
        "        raise result[0]\n",
        "\n",
        "    solution, nodes_visited = result[0]\n",
        "    show_solution(args[0], solution, name, nodes_visited)\n",
        "    time_taken = time() - start_time\n",
        "    return SearchResult(SearchStatus.SOLVED if solution else SearchStatus.NO_SOLUTION, solution, nodes_visited, time_taken)"
      ]
    },
    {
      "cell_type": "code",
      "execution_count": 36,
      "metadata": {
        "id": "qnyyUuCG2vYa"
      },
      "outputs": [],
      "source": [
        "def run_test(test: List, heuristics: List[Callable[[Any], int]], time_limit: float = 60.0):\n",
        "\n",
        "    print(f\"Running test:\\n {test}\")\n",
        "\n",
        "    puzzle = LightsOutPuzzle(test)\n",
        "\n",
        "    # bfs_result = run_searches(bfs_solve, (deepcopy(puzzle),), name=\"BFS\", time_limit=time_limit)\n",
        "    # ids_result = run_searches(ids_solve, (deepcopy(puzzle),), name=\"IDS\", time_limit=time_limit)\n",
        "\n",
        "    astar_results = []\n",
        "    for heuristic in heuristics:\n",
        "        astar_results.append(\n",
        "            run_searches(\n",
        "                astar_solve,\n",
        "                (deepcopy(puzzle), heuristic),\n",
        "                name=f\"A*({heuristic.__name__})\",\n",
        "                time_limit=time_limit,\n",
        "            )\n",
        "        )\n",
        "\n",
        "    weighted_astar_results = []\n",
        "    for heuristic in weighted_heuristics:\n",
        "        for weight in weights:\n",
        "          weighted_astar_results.append(\n",
        "              run_searches(\n",
        "                  astar_solve,\n",
        "                  (deepcopy(puzzle), partial(heuristic, alpha = weight)),\n",
        "                  name=f\"weighted A*({heuristic.__name__}, alpha = {weight})\",\n",
        "                  time_limit=time_limit,\n",
        "              )\n",
        "          )\n",
        "\n",
        "    print(\"\\n-------------------------------\\n\")\n",
        "\n",
        "    return (\n",
        "        test,\n",
        "        # bfs_result,\n",
        "        # ids_result,\n",
        "        *astar_results,\n",
        "        *weighted_astar_results\n",
        "    )"
      ]
    },
    {
      "cell_type": "code",
      "execution_count": null,
      "metadata": {
        "id": "oz2EFpWE2vYa"
      },
      "outputs": [
        {
          "name": "stdout",
          "output_type": "stream",
          "text": [
            "Running test:\n",
            " [[0 0 0 0 1]\n",
            " [1 0 0 1 0]\n",
            " [0 0 0 1 1]\n",
            " [0 1 0 1 1]\n",
            " [1 1 0 1 0]]\n"
          ]
        }
      ],
      "source": [
        "results: List[Tuple[str, SearchResult, SearchResult, SearchResult, SearchResult]] = []\n",
        "\n",
        "for test in tests:\n",
        "    results.append(run_test(test, heuristics, 120))"
      ]
    },
    {
      "cell_type": "code",
      "execution_count": 19,
      "metadata": {
        "id": "ujYzQmNq2vYa"
      },
      "outputs": [
        {
          "ename": "IndexError",
          "evalue": "tuple index out of range",
          "output_type": "error",
          "traceback": [
            "\u001b[1;31m---------------------------------------------------------------------------\u001b[0m",
            "\u001b[1;31mIndexError\u001b[0m                                Traceback (most recent call last)",
            "Cell \u001b[1;32mIn[19], line 17\u001b[0m\n\u001b[0;32m     15\u001b[0m     \u001b[38;5;28;01mfor\u001b[39;00m i \u001b[38;5;129;01min\u001b[39;00m \u001b[38;5;28mrange\u001b[39m(\u001b[38;5;28mlen\u001b[39m(weighted_heuristics)):\n\u001b[0;32m     16\u001b[0m         \u001b[38;5;28;01mfor\u001b[39;00m j \u001b[38;5;129;01min\u001b[39;00m \u001b[38;5;28mrange\u001b[39m(\u001b[38;5;28mlen\u001b[39m(weights)):\n\u001b[1;32m---> 17\u001b[0m           table_data[\u001b[38;5;241m-\u001b[39m\u001b[38;5;241m1\u001b[39m]\u001b[38;5;241m.\u001b[39mappend(\u001b[38;5;28mstr\u001b[39m(\u001b[43mresult\u001b[49m\u001b[43m[\u001b[49m\u001b[38;5;241;43m2\u001b[39;49m\u001b[43m \u001b[49m\u001b[38;5;241;43m+\u001b[39;49m\u001b[43m \u001b[49m\u001b[38;5;28;43mlen\u001b[39;49m\u001b[43m(\u001b[49m\u001b[43mheuristics\u001b[49m\u001b[43m)\u001b[49m\u001b[43m \u001b[49m\u001b[38;5;241;43m+\u001b[39;49m\u001b[43m \u001b[49m\u001b[43mi\u001b[49m\u001b[43m \u001b[49m\u001b[38;5;241;43m*\u001b[39;49m\u001b[43m \u001b[49m\u001b[38;5;241;43m2\u001b[39;49m\u001b[43m \u001b[49m\u001b[38;5;241;43m+\u001b[39;49m\u001b[43m \u001b[49m\u001b[43mj\u001b[49m\u001b[43m]\u001b[49m))\n\u001b[0;32m     19\u001b[0m     table_data\u001b[38;5;241m.\u001b[39mappend(\u001b[38;5;124m\"\u001b[39m\u001b[38;5;130;01m\\n\u001b[39;00m\u001b[38;5;130;01m\\n\u001b[39;00m\u001b[38;5;130;01m\\n\u001b[39;00m\u001b[38;5;124m\"\u001b[39m)\n\u001b[0;32m     21\u001b[0m \u001b[38;5;28;01mif\u001b[39;00m table_data[\u001b[38;5;241m-\u001b[39m\u001b[38;5;241m1\u001b[39m] \u001b[38;5;241m==\u001b[39m \u001b[38;5;124m\"\u001b[39m\u001b[38;5;130;01m\\n\u001b[39;00m\u001b[38;5;130;01m\\n\u001b[39;00m\u001b[38;5;130;01m\\n\u001b[39;00m\u001b[38;5;124m\"\u001b[39m:\n",
            "\u001b[1;31mIndexError\u001b[0m: tuple index out of range"
          ]
        }
      ],
      "source": [
        "table_data: List[List[str]] = []\n",
        "\n",
        "for result in results:\n",
        "    table_data.append(\n",
        "        [\n",
        "            \"\\n\".join(\" \".join(str(cell) for cell in row) for row in result[0]),\n",
        "            str(result[1]),\n",
        "            str(result[2]),\n",
        "        ]\n",
        "    )\n",
        "\n",
        "    for i in range(len(heuristics)):\n",
        "        table_data[-1].append(str(result[2 + i]))\n",
        "\n",
        "    for i in range(len(weighted_heuristics)):\n",
        "        for j in range(len(weights)):\n",
        "          table_data[-1].append(str(result[2 + len(heuristics) + i * 2 + j]))\n",
        "\n",
        "    table_data.append(\"\\n\\n\\n\")\n",
        "\n",
        "if table_data[-1] == \"\\n\\n\\n\":\n",
        "    table_data.pop()\n",
        "\n",
        "print(len(table_data))\n",
        "print(\"Results:\")\n",
        "print(\n",
        "    tabulate(\n",
        "        table_data,\n",
        "        headers=[\n",
        "            \"Test\",\n",
        "            \"BFS\",\n",
        "            \"IDS\",\n",
        "            *[f\"A* ({heuristic.__name__})\" for heuristic in heuristics],\n",
        "            *[f\"Weighted A* ({heuristic.__name__}, alpha = {weight})\" for heuristic in weighted_heuristics for weight in weights]\n",
        "        ],\n",
        "        floatfmt=\".3f\",\n",
        "        numalign=\"center\",\n",
        "        stralign=\"center\",\n",
        "        tablefmt=\"grid\",\n",
        "    )\n",
        ")"
      ]
    },
    {
      "cell_type": "markdown",
      "metadata": {},
      "source": [
        "### Question 4&5) Analysis and Conclusion\n",
        "In this project, we implemented 3 different search approaches. As we can see A* is not complete unless we use an admissible heuristic, for example take the 7th and 8th testcases, with different heuristics, A* find different-length solutions.\n",
        "As we can see BFS and IDS do not find solution for $5\\times 5$ grids, since there are too many states to check, but on the other hand A* finds a solution for some huge testcases. (even though optimality is not guaranteed due to inadmissible heuristics.)"
      ]
    }
  ],
  "metadata": {
    "colab": {
      "provenance": []
    },
    "kernelspec": {
      "display_name": "Python 3",
      "language": "python",
      "name": "python3"
    },
    "language_info": {
      "codemirror_mode": {
        "name": "ipython",
        "version": 3
      },
      "file_extension": ".py",
      "mimetype": "text/x-python",
      "name": "python",
      "nbconvert_exporter": "python",
      "pygments_lexer": "ipython3",
      "version": "3.12.2"
    }
  },
  "nbformat": 4,
  "nbformat_minor": 0
}
