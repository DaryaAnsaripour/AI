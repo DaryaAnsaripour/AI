{
 "cells": [
  {
   "cell_type": "markdown",
   "metadata": {},
   "source": [
    "# Darya Ansaripour - 610300022\n",
    "## Genetic"
   ]
  },
  {
   "cell_type": "code",
   "execution_count": 23,
   "metadata": {},
   "outputs": [],
   "source": [
    "import random\n",
    "from PIL import Image, ImageDraw\n",
    "import numpy as np\n",
    "import cv2\n",
    "import copy\n",
    "import matplotlib.pyplot as plt\n",
    "from IPython.display import clear_output"
   ]
  },
  {
   "cell_type": "code",
   "execution_count": 24,
   "metadata": {},
   "outputs": [],
   "source": [
    "OFFSET = 10\n",
    "PC = 0.9\n",
    "PM = 0.01\n",
    "TOP = 0.1\n",
    "\n",
    "\n",
    "def generate_point(width, height):\n",
    "    x = random.randrange(0 - OFFSET, width + OFFSET, 1)\n",
    "    y = random.randrange(0 - OFFSET, height + OFFSET, 1)\n",
    "    return (x, y)\n",
    "\n",
    "class Triangle:\n",
    "    def __init__(self, img_width, img_height):\n",
    "        self.points = []\n",
    "        for i in range(3):\n",
    "            self.points.append(generate_point(img_width,img_height))\n",
    "\n",
    "        self.color = (\n",
    "            random.randint(0, 255),\n",
    "            random.randint(0, 255),\n",
    "            random.randint(0, 255),\n",
    "            random.randint(0, 255),\n",
    "        )\n",
    "\n",
    "        self._img_width = img_width\n",
    "        self._img_height = img_height"
   ]
  },
  {
   "cell_type": "markdown",
   "metadata": {},
   "source": [
    "Notes on mutation and fitness:\n",
    "\n",
    "There are some ways to calculate the fitness of a chromosome in terms of how much it is close to the original image, calculating MSE which is the mean of squared errors of the pixels is one of the ways that shows how much a chromosome is good! The closer MSE gets to zero the better our estimation of the original image gets! One can check the decrease of MSE through iterations using the plot below.\n",
    "\n",
    "I chose both changing triangles' location and color as a mutation strategy to keep the diversity of population, note that i only apply mutation on bottom 90 percent of the population in order to reach convergence."
   ]
  },
  {
   "cell_type": "code",
   "execution_count": 25,
   "metadata": {},
   "outputs": [],
   "source": [
    "class Chromosome:  \n",
    "    def __init__(self,img_height, img_width,target_image,num_triangles):\n",
    "        self.img_height = img_height\n",
    "        self.img_width = img_width  \n",
    "        self.background_color = (0,0,0,255)\n",
    "        self.triangles = [Triangle(img_width, img_height) for _ in range(num_triangles)]\n",
    "        self.target_image = target_image\n",
    "        self.num_triangles = num_triangles\n",
    "\n",
    "    def mutate(self):\n",
    "        #TODO: add mutate strategy\n",
    "        for triangle_to_mutate in self.triangles:\n",
    "        \n",
    "            if random.random()<PM:\n",
    "                mutation_type = random.choice(['color', 'position'])\n",
    "\n",
    "                if mutation_type == 'color':\n",
    "                    channel = random.choice([0, 1, 2, 3])  # choose R, G, B, or A channel to mutate\n",
    "                    new_color = list(triangle_to_mutate.color)\n",
    "                    new_color[channel] = min(255, max(0, new_color[channel] + random.randint(-30, 30)))\n",
    "                    triangle_to_mutate.color = tuple(new_color)\n",
    "\n",
    "                elif mutation_type == 'position':\n",
    "                    point_index = random.randint(0, 2)  # choose one of the 3 vertices\n",
    "                    new_point = generate_point(self.img_width, self.img_height)\n",
    "                    triangle_to_mutate.points[point_index] = new_point\n",
    "    \n",
    "    def draw(self) -> Image:\n",
    "        size = self.target_image.size\n",
    "        img = Image.new('RGB', size, self.background_color)\n",
    "        draw = Image.new('RGBA', size)\n",
    "        pdraw = ImageDraw.Draw(draw)\n",
    "        for triangle in self.triangles:\n",
    "            colour = triangle.color\n",
    "            points = triangle.points\n",
    "            pdraw.polygon(points, fill=colour, outline=colour)\n",
    "            img.paste(draw, mask=draw)\n",
    "        return img\n",
    "        \n",
    "\n",
    "    def fitness(self) -> float:\n",
    "        created_image = np.array(self.draw())/255\n",
    "        #TODO: calculate fitness\n",
    "        target_image = np.array(self.target_image)/255\n",
    "        mse = np.mean((created_image - target_image) ** 2)\n",
    "        return mse\n"
   ]
  },
  {
   "cell_type": "code",
   "execution_count": 26,
   "metadata": {},
   "outputs": [],
   "source": [
    "class GeneticAlgorithm():\n",
    "    def __init__(self,max_width,max_height,target_image, population_size, triangles_number):\n",
    "        self.population_size = population_size\n",
    "        self.max_width = max_width\n",
    "        self.max_height = max_height\n",
    "        self.population = [Chromosome(max_height,max_width,target_image, triangles_number) for i in range(population_size)]\n",
    "        self.target_image = target_image\n",
    "        self.total_rank = sum(range(1, self.population_size + 1))\n",
    "\n",
    "    def calc_fitnesses(self):\n",
    "        fitnesses = []\n",
    "        for chromosome in self.population:  \n",
    "            fitnesses.append(chromosome.fitness())\n",
    "        return fitnesses\n",
    "    \n",
    "    def sort_population(self, fitnesses):\n",
    "        return [x for _, x in sorted(zip(fitnesses, self.population), key=lambda pair: pair[0])]\n",
    "    \n",
    "    \n",
    "    def cross_over(self, parent1: Chromosome, parent2: Chromosome):\n",
    "        #TODO: apply cross over\n",
    "\n",
    "        i = random.randint(0,parent1.num_triangles)\n",
    "        child1 = Chromosome(self.max_height, self.max_width, self.target_image, parent1.num_triangles)\n",
    "        child1.triangles = parent1.triangles[:i] + parent2.triangles[i:]\n",
    "        child2 = Chromosome(self.max_height, self.max_width, self.target_image, parent1.num_triangles)\n",
    "        child2.triangles = parent2.triangles[:i] + parent1.triangles[i:]\n",
    "\n",
    "        return copy.deepcopy(child1) if child1.fitness()<child2.fitness() else copy.deepcopy(child2)\n",
    "\n",
    "    def mutation(self):  \n",
    "        #TODO: apply mutation\n",
    "        for chromosome in self.population[int(TOP*self.population_size):]:\n",
    "            chromosome.mutate()\n",
    "\n",
    "\n",
    "    def run(self,n_generations):\n",
    "\n",
    "        means = []\n",
    "        for iteration in range(n_generations):\n",
    "            fitnesses = self.calc_fitnesses()\n",
    "            self.population = self.sort_population(fitnesses)[:]\n",
    "\n",
    "            if iteration % 10 == 0:\n",
    "                fit_arr = np.array(fitnesses)\n",
    "                m = np.mean(fit_arr)\n",
    "                clear_output()\n",
    "                print(f\"Fitness in Generation {iteration}: mean: {m}, max: {np.max(fit_arr)} min: {np.min(fit_arr)}\")\n",
    "                means.append((iteration,m))\n",
    "                if iteration % 100 == 0:\n",
    "                    #TODO: save the best photo from this generation to see the process\n",
    "\n",
    "                    best_image = self.population[0].draw()\n",
    "                    best_image.save(f\"generation_{iteration}.png\")\n",
    "                    print(f\"Saved best image of generation {iteration}.\")\n",
    "\n",
    "            # apply mutation and cross over and implement your method to select next generation chromosomes                \n",
    "            new_population = self.population[:int(TOP*self.population_size)]\n",
    "\n",
    "            while len(new_population) < self.population_size:\n",
    "                parents = random.choices(self.population[:int(TOP*self.population_size)], k=2)\n",
    "                child = self.cross_over(parents[0], parents[1])\n",
    "                new_population.append(child)\n",
    "            \n",
    "            self.population = new_population[:]\n",
    "            self.mutation()\n",
    "\n",
    "        return(means)\n",
    "\n",
    "    def get_best_of_population(self):\n",
    "        fitnesses = self.calc_fitnesses()\n",
    "        sorted_population = [x for _, x in sorted(zip(fitnesses, self.population), key=lambda pair: pair[0])]              \n",
    "        best_population = sorted_population[0]\n",
    "        image = best_population.draw()       \n",
    "        cv2.imshow(\"Reconstructed Image\", np.array(image))  \n",
    "        cv2.waitKey(0)\n",
    "        cv2.destroyAllWindows()"
   ]
  },
  {
   "cell_type": "code",
   "execution_count": 27,
   "metadata": {},
   "outputs": [],
   "source": [
    "def resize(image,max_size):\n",
    "    new_width = int((max_size/max(image.size[0],image.size[1]))* image.size[0])\n",
    "    new_height = int((max_size/max(image.size[0],image.size[1]))* image.size[1])\n",
    "    image = image.resize((new_width,new_height), resample=Image.Resampling.LANCZOS)  \n",
    "    return image"
   ]
  },
  {
   "cell_type": "code",
   "execution_count": 33,
   "metadata": {},
   "outputs": [
    {
     "name": "stdout",
     "output_type": "stream",
     "text": [
      "Fitness in Generation 500: mean: 0.02125824954660018, max: 0.047334453337682866 min: 0.020080475652332626\n",
      "Saved best image of generation 500.\n"
     ]
    },
    {
     "data": {
      "image/png": "[encoded data removed]",
      "text/plain": [
       "<Figure size 640x480 with 1 Axes>"
      ]
     },
     "metadata": {},
     "output_type": "display_data"
    }
   ],
   "source": [
    "target_image_path = \"./target_images/target_images/eagle.jpg\"\n",
    "image = Image.open(target_image_path)\n",
    "# Use resize to resize your images\n",
    "image = resize(image,50)\n",
    "\n",
    "width,height = image.size\n",
    "population_size = 50\n",
    "triangles_number = 100\n",
    "alg = GeneticAlgorithm(width,height,image, population_size, triangles_number)\n",
    "means = alg.run(501)\n",
    "\n",
    "x_values, y_values = zip(*means)\n",
    "plt.scatter(x_values, y_values, color='lightpink', marker='x')\n",
    "plt.plot(x_values, y_values, color='lightblue', linestyle='--')  # Optional: connect the points with lines\n",
    "plt.xlabel(\"Iterations\")\n",
    "plt.ylabel(\"Mean of MSE\")\n",
    "plt.title(\"Fitness through Iterations (50 chromosomes)\")\n",
    "plt.show()"
   ]
  },
  {
   "cell_type": "code",
   "execution_count": 35,
   "metadata": {},
   "outputs": [
    {
     "name": "stdout",
     "output_type": "stream",
     "text": [
      "Fitness in Generation 500: mean: 0.01430017449388153, max: 0.02665657575369225 min: 0.013895532021483577\n",
      "Saved best image of generation 500.\n"
     ]
    },
    {
     "data": {
      "image/png": "[encoded data removed]",
      "text/plain": [
       "<Figure size 640x480 with 1 Axes>"
      ]
     },
     "metadata": {},
     "output_type": "display_data"
    }
   ],
   "source": [
    "target_image_path = \"./target_images/target_images/eagle.jpg\"\n",
    "image = Image.open(target_image_path)\n",
    "# Use resize to resize your images\n",
    "image = resize(image,50)\n",
    "\n",
    "width,height = image.size\n",
    "population_size = 100\n",
    "triangles_number = 60\n",
    "alg = GeneticAlgorithm(width,height,image, population_size, triangles_number)\n",
    "means = alg.run(501)\n",
    "\n",
    "x_values, y_values = zip(*means)\n",
    "plt.scatter(x_values, y_values, color='lightpink', marker='x')\n",
    "plt.plot(x_values, y_values, color='lightblue', linestyle='--')  # Optional: connect the points with lines\n",
    "plt.xlabel(\"Iterations\")\n",
    "plt.ylabel(\"Mean of MSE\")\n",
    "plt.title(\"Fitness through Iterations (100 chromosomes)\")\n",
    "plt.show()"
   ]
  },
  {
   "cell_type": "code",
   "execution_count": 31,
   "metadata": {},
   "outputs": [
    {
     "name": "stdout",
     "output_type": "stream",
     "text": [
      "Fitness in Generation 500: mean: 0.012791427741466957, max: 0.03119299841941134 min: 0.012304983126148061\n",
      "Saved best image of generation 500.\n"
     ]
    },
    {
     "data": {
      "image/png": "[encoded data removed]",
      "text/plain": [
       "<Figure size 640x480 with 1 Axes>"
      ]
     },
     "metadata": {},
     "output_type": "display_data"
    }
   ],
   "source": [
    "target_image_path = \"./target_images/target_images/moon.jpg\"\n",
    "image = Image.open(target_image_path)\n",
    "# Use resize to resize your images\n",
    "image = resize(image,60)\n",
    "\n",
    "width,height = image.size\n",
    "population_size = 100\n",
    "triangles_number = 50\n",
    "alg = GeneticAlgorithm(width,height,image, population_size, triangles_number)\n",
    "means = alg.run(501)\n",
    "\n",
    "x_values, y_values = zip(*means)\n",
    "plt.scatter(x_values, y_values, color='lightpink', marker='x')\n",
    "plt.plot(x_values, y_values, color='lightblue', linestyle='--')  # Optional: connect the points with lines\n",
    "plt.xlabel(\"Iterations\")\n",
    "plt.ylabel(\"Mean of MSE\")\n",
    "plt.title(\"Fitness through Iterations (100 chromosomes)\")\n",
    "plt.show()"
   ]
  },
  {
   "cell_type": "markdown",
   "metadata": {},
   "source": [
    "## Question 1:\n",
    "Each chromosome is a set of triangles, each triangle has 6 parameters for its location and 4 paramteres for its color.\n",
    "we can assume that each parameter is an integer (o.w. there'd be infinitly many states.) by this assumption we conclude that each gene (triangle) has $w^6 \\times 256^4$ possibilities and each chromosome has $(w^6 \\times 256^4)^t$ where w is image width and t is number of triangles."
   ]
  },
  {
   "cell_type": "markdown",
   "metadata": {},
   "source": [
    "## Question 2:\n",
    "1. Dynamically adjust the mutation rate depending on the diversity within the population. When diversity is low (i.e., many chromosomes are similar), increase the mutation rate to introduce more genetic variation. Conversely, when diversity is high, reduce the mutation rate to refine the solutions found.\n",
    "2. In each generation, preserve a small percentage of the best-performing chromosomes (individuals) without subjecting them to mutation. This ensures that the best solutions found so far are retained and continue to influence future generations."
   ]
  },
  {
   "cell_type": "markdown",
   "metadata": {},
   "source": [
    "## Question 3:\n",
    "1.  Roulette wheel selection assigns selection probabilities directly proportional to the fitness of each chromosome. Higher fitness (i.e., lower fitness score if minimizing which is the case here) results in a higher probability of selection, allowing the best chromosomes to have a higher chance of passing their genes to the next generation.\n",
    "2. Rank-based selection assigns selection probabilities based on the rank of each chromosome rather than its absolute fitness score. Chromosomes are ranked from best to worst, and selection probabilities are distributed accordingly, with the top-ranked chromosomes receiving higher probabilities.\n",
    "\n"
   ]
  },
  {
   "cell_type": "markdown",
   "metadata": {},
   "source": [
    "## Game"
   ]
  },
  {
   "cell_type": "code",
   "execution_count": 1,
   "metadata": {},
   "outputs": [
    {
     "name": "stdout",
     "output_type": "stream",
     "text": [
      "pygame 2.6.1 (SDL 2.28.4, Python 3.12.2)\n",
      "Hello from the pygame community. https://www.pygame.org/contribute.html\n"
     ]
    }
   ],
   "source": [
    "import numpy as np\n",
    "import random\n",
    "import pygame\n",
    "import math\n",
    "from time import sleep, time\n",
    "\n",
    "ROW_COUNT = 6\n",
    "COLUMN_COUNT = 7\n",
    "SQUARESIZE = 100\n",
    "RADIUS = int(SQUARESIZE / 2 - 5)\n",
    "PLAYER = 1\n",
    "CPU = -1\n",
    "EMPTY = 0\n",
    "PLAYER_PIECE = 1\n",
    "CPU_PIECE = -1\n",
    "BLUE = (0, 0, 255)\n",
    "BLACK = (0, 0, 0)\n",
    "RED = (255, 0, 0)\n",
    "YELLOW = (255, 255, 0)\n",
    "WINDOW_LENGTH = 4\n",
    "WINING_SCORE = 10000000000000"
   ]
  },
  {
   "cell_type": "code",
   "execution_count": 2,
   "metadata": {},
   "outputs": [],
   "source": [
    "class Connect4UI:\n",
    "    def __init__(self, width=COLUMN_COUNT*SQUARESIZE, height=(ROW_COUNT+1)*SQUARESIZE):\n",
    "        pygame.init()\n",
    "        self.width = width\n",
    "        self.height = height\n",
    "        self.size = (self.width, self.height)\n",
    "        self.screen = pygame.display.set_mode(self.size)\n",
    "        self.font = pygame.font.SysFont(\"monospace\", 75)\n",
    "\n",
    "    def draw_board(self, board):\n",
    "        for c in range(COLUMN_COUNT):\n",
    "            for r in range(ROW_COUNT):\n",
    "                pygame.draw.rect(self.screen, BLUE, (c * SQUARESIZE, r * SQUARESIZE + SQUARESIZE, SQUARESIZE, SQUARESIZE))\n",
    "                pygame.draw.circle(self.screen, BLACK, (int(c * SQUARESIZE + SQUARESIZE / 2), int(r * SQUARESIZE + SQUARESIZE + SQUARESIZE / 2)), RADIUS)\n",
    "\n",
    "        for c in range(COLUMN_COUNT):\n",
    "            for r in range(ROW_COUNT):\n",
    "                if board[r][c] == PLAYER_PIECE:\n",
    "                    pygame.draw.circle(self.screen, RED, (int(c * SQUARESIZE + SQUARESIZE / 2), self.height - int(r * SQUARESIZE + SQUARESIZE / 2)), RADIUS)\n",
    "                elif board[r][c] == CPU_PIECE:\n",
    "                    pygame.draw.circle(self.screen, YELLOW, (int(c * SQUARESIZE + SQUARESIZE / 2), self.height - int(r * SQUARESIZE + SQUARESIZE / 2)), RADIUS)\n",
    "\n",
    "        pygame.display.update()\n",
    "        sleep(0.2)\n",
    "        \n",
    "\n",
    "    def display_winner(self, winner):\n",
    "        if winner == PLAYER:\n",
    "            label = self.font.render(\"Player wins!!\", 1, RED)\n",
    "        elif winner == CPU:\n",
    "            label = self.font.render(\"Computer wins!!\", 1, YELLOW)\n",
    "        else:\n",
    "            label = self.font.render(\"It's a draw!!\", 1, BLUE)\n",
    "        self.screen.blit(label, (40, 10))\n",
    "        pygame.display.update()\n",
    "        sleep(5)"
   ]
  },
  {
   "cell_type": "code",
   "execution_count": 7,
   "metadata": {},
   "outputs": [],
   "source": [
    "class Connect4Game:\n",
    "    def __init__(self, ui, minimax_depth=1, prune=True):\n",
    "        self.board = np.zeros((ROW_COUNT, COLUMN_COUNT))\n",
    "        self.ui = Connect4UI() if ui else None\n",
    "        self.minimax_depth = minimax_depth\n",
    "        self.prune = prune\n",
    "        self.current_turn = random.choice([1, -1])\n",
    "        \n",
    "    def drop_piece(self, board, row, col, piece):\n",
    "        board[row][col] = piece\n",
    "\n",
    "    def get_next_open_row(self, board,col):\n",
    "        for r in range(ROW_COUNT):\n",
    "            if board[r][col] == 0:\n",
    "                return r\n",
    "\n",
    "    def print_board(self, board):\n",
    "        print(np.flip(board, 0))\n",
    "\n",
    "    def winning_move(self, board, piece):\n",
    "        for c in range(COLUMN_COUNT - 3):\n",
    "            for r in range(ROW_COUNT):\n",
    "                if all(board[r][c+i] == piece for i in range(WINDOW_LENGTH)):\n",
    "                    return True\n",
    "\n",
    "        for c in range(COLUMN_COUNT):\n",
    "            for r in range(ROW_COUNT - 3):\n",
    "                if all(board[r+i][c] == piece for i in range(WINDOW_LENGTH)):\n",
    "                    return True\n",
    "\n",
    "        for c in range(COLUMN_COUNT - 3):\n",
    "            for r in range(ROW_COUNT - 3):\n",
    "                if all(board[r+i][c+i] == piece for i in range(WINDOW_LENGTH)):\n",
    "                    return True\n",
    "\n",
    "        for c in range(COLUMN_COUNT - 3):\n",
    "            for r in range(3, ROW_COUNT):\n",
    "                if all(board[r-i][c+i] == piece for i in range(WINDOW_LENGTH)):\n",
    "                    return True\n",
    "\n",
    "        return False\n",
    "    \n",
    "    def evaluate_window(self, window, piece):\n",
    "        score = 0\n",
    "        opp_piece = PLAYER_PIECE\n",
    "        if piece == PLAYER_PIECE:\n",
    "            opp_piece = CPU_PIECE\n",
    "        \n",
    "        if window.count(piece) == 4:\n",
    "            score += 100\n",
    "        elif window.count(piece) == 3 and window.count(EMPTY) == 1:\n",
    "            score += 5\n",
    "        elif window.count(piece) == 2 and window.count(EMPTY) == 2:\n",
    "            score += 2\n",
    "        if window.count(opp_piece) == 3 and window.count(EMPTY) == 1:\n",
    "            score -= 4\n",
    "        \n",
    "        return score\n",
    "    \n",
    "    def score_position(self, board, piece):\n",
    "        score = 0  \n",
    "        center_array = [int(i) for i in list(board[:, COLUMN_COUNT//2])]\n",
    "        center_count = center_array.count(piece)\n",
    "        score += center_count * 3\n",
    "    \n",
    "        for r in range(ROW_COUNT):\n",
    "            row_array = [int(i) for i in list(board[r,:])]\n",
    "            for c in range(COLUMN_COUNT-3):\n",
    "                window = row_array[c:c+WINDOW_LENGTH]\n",
    "                score += self.evaluate_window(window, piece)\n",
    "\n",
    "        for c in range(COLUMN_COUNT):\n",
    "            col_array = [int(i) for i in list(board[:,c])]\n",
    "            for r in range(ROW_COUNT-3):\n",
    "                window = col_array[r:r+WINDOW_LENGTH]\n",
    "                score += self.evaluate_window(window, piece)\n",
    "\n",
    "        for r in range(ROW_COUNT-3):\n",
    "            for c in range(COLUMN_COUNT-3):\n",
    "                window = [board[r+i][c+i] for i in range(WINDOW_LENGTH)]\n",
    "                score += self.evaluate_window(window, piece)\n",
    "                \n",
    "        for r in range(ROW_COUNT-3):\n",
    "            for c in range(COLUMN_COUNT-3):\n",
    "                window = [board[r+3-i][c+i] for i in range(WINDOW_LENGTH)]\n",
    "                score += self.evaluate_window(window, piece)\n",
    "    \n",
    "        return score\n",
    "    \n",
    "    def is_terminal_node(self, board):\n",
    "        return self.winning_move(board, PLAYER_PIECE) or self.winning_move(board, CPU_PIECE) or len(self.get_valid_locations(board)) == 0\n",
    "    \n",
    "    def get_valid_locations(self, board):\n",
    "        valid_locations = []\n",
    "        for col in range(COLUMN_COUNT):\n",
    "            if board[ROW_COUNT-1][col] == 0:\n",
    "                valid_locations.append(col)\n",
    "        return valid_locations\n",
    "    \n",
    "    def best_cpu_score(self, board, moves):\n",
    "        move = None\n",
    "        max_score = -math.inf\n",
    "        for col in moves:\n",
    "            row = self.get_next_open_row(board, col)\n",
    "            b_copy = board.copy()\n",
    "            self.drop_piece(b_copy, row, col, CPU_PIECE)\n",
    "            score = self.heuristic(b_copy, CPU_PIECE)\n",
    "            if score > max_score:\n",
    "                max_score = score\n",
    "                move = col\n",
    "        return move\n",
    "    \n",
    "    def heuristic(self, board, piece):\n",
    "        if(self.is_terminal_node(board)):\n",
    "            if self.winning_move(board, piece):\n",
    "                return WINING_SCORE\n",
    "            elif self.winning_move(board, -piece):\n",
    "                return -WINING_SCORE\n",
    "            else:\n",
    "                return 0\n",
    "        else:\n",
    "            return self.score_position(board, piece) - self.score_position(board, -piece)\n",
    "        \n",
    "    #TODO: Implement minimax algorithm with alpha-beta pruning and depth limiting\n",
    "    #self.prune is a boolean that indicates whether to use alpha-beta pruning or not\n",
    "    #Use the heuristic function as the evaluation function for non terminal nodes\n",
    "    #Return the column and the score of the best move\n",
    "    def minimax(self, board, depth, alpha, beta, player):\n",
    "        valid_locations = self.get_valid_locations(board)\n",
    "        is_terminal = self.is_terminal_node(board)\n",
    "        \n",
    "        # Check terminal states\n",
    "        if depth == 0 or is_terminal:\n",
    "                return None, self.heuristic(board, PLAYER_PIECE)\n",
    "        \n",
    "        # Maximizing player\n",
    "        if player == PLAYER_PIECE:\n",
    "            value = -math.inf\n",
    "            column = 0\n",
    "            for col in valid_locations:\n",
    "                row = self.get_next_open_row(board, col)\n",
    "                b_copy = board.copy()\n",
    "                self.drop_piece(b_copy, row, col, PLAYER_PIECE)\n",
    "                new_score = self.minimax(b_copy, depth - 1, alpha, beta, CPU_PIECE)[1]\n",
    "                if new_score > value:\n",
    "                    value = new_score\n",
    "                    column = col\n",
    "                if self.prune and value >= beta:\n",
    "                    break\n",
    "                alpha = max(alpha, value)\n",
    "            return column, value\n",
    "\n",
    "        # Minimizing player\n",
    "        else:\n",
    "            value = math.inf\n",
    "            column = 0\n",
    "            for col in valid_locations:\n",
    "                row = self.get_next_open_row(board, col)\n",
    "                b_copy = board.copy()\n",
    "                self.drop_piece(b_copy, row, col, CPU_PIECE)\n",
    "                new_score = self.minimax(b_copy, depth - 1, alpha, beta, PLAYER_PIECE)[1]\n",
    "                if new_score < value:\n",
    "                    value = new_score\n",
    "                    column = col\n",
    "                if self.prune and alpha >= value:\n",
    "                    break\n",
    "                beta = min(beta, value)\n",
    "            return column, value\n",
    "        \n",
    "        \n",
    "    def get_cpu_move(self, board, randomness_percent=30):\n",
    "        moves = self.get_valid_locations(board)\n",
    "        if len(moves) == 0:\n",
    "            return None\n",
    "        random_move = random.choice(moves)\n",
    "        score_move = self.best_cpu_score(board, moves)\n",
    "        move = random.choice([score_move] * (100 - randomness_percent) + [random_move] * randomness_percent)\n",
    "        return move, self.get_next_open_row(board, move)\n",
    "\n",
    "\n",
    "    def get_human_move(self, board, depth = 1):\n",
    "        col = self.minimax(board, depth, -math.inf, math.inf, self.current_turn)[0]\n",
    "        return col, self.get_next_open_row(board, col)\n",
    "\n",
    "    def play(self):\n",
    "        winner = None\n",
    "        while not self.is_terminal_node(self.board):\n",
    "            if self.ui:\n",
    "                self.ui.draw_board(self.board)\n",
    "            if self.current_turn == PLAYER:\n",
    "                col, row = self.get_human_move(self.board, self.minimax_depth)\n",
    "                if col is not None:\n",
    "                    self.drop_piece(self.board, row, col, PLAYER_PIECE)\n",
    "                    if self.winning_move(self.board, PLAYER_PIECE):\n",
    "                        winner = PLAYER\n",
    "                    self.current_turn = CPU\n",
    "            else:\n",
    "                col, row = self.get_cpu_move(self.board)\n",
    "                if col is not None:\n",
    "                    self.drop_piece(self.board, row, col, CPU_PIECE)\n",
    "                    if self.winning_move(self.board, CPU_PIECE):\n",
    "                        winner = CPU\n",
    "                    self.current_turn = PLAYER\n",
    "            \n",
    "            if self.ui:\n",
    "                self.ui.draw_board(self.board)\n",
    "                if winner is not None:\n",
    "                    self.ui.display_winner(winner)\n",
    "                            \n",
    "        if winner is None:\n",
    "            winner = 0\n",
    "        return winner"
   ]
  },
  {
   "cell_type": "markdown",
   "metadata": {},
   "source": [
    "Complete the Connect4Game class below by implementing the `minimax algorithm` with `alpha-beta pruning` and `depth limiting`. Don't change other parts of the code unless you want to define a new heuristic function."
   ]
  },
  {
   "cell_type": "code",
   "execution_count": 8,
   "metadata": {},
   "outputs": [],
   "source": [
    "def print_results(results, depth, pruning, start, end):\n",
    "    pruning_status = \"Enabled\" if pruning else \"Disabled\"\n",
    "    print(\n",
    "        f'Depth: {depth} | Pruning: {pruning_status} -> User Wins: {results[1]:3}, CPU Wins: {results[-1]:2}, Ties: {results[0]:2}, Time: {end - start:.2f}s'\n",
    "    )"
   ]
  },
  {
   "cell_type": "markdown",
   "metadata": {},
   "source": [
    "Use the code below to test the game with the UI. Pygame is not compatible with Jupyter Notebook and will not work in this environment. To use Pygame, please run the code in a separate `.py` file."
   ]
  },
  {
   "cell_type": "code",
   "execution_count": 9,
   "metadata": {},
   "outputs": [],
   "source": [
    "# game = Connect4Game(True, 3, True)\n",
    "# game.play()"
   ]
  },
  {
   "cell_type": "markdown",
   "metadata": {},
   "source": [
    "Run the following code to test the results of the game and the time taken to play the game in different `depths` and with `pruning` enabled and disabled."
   ]
  },
  {
   "cell_type": "code",
   "execution_count": 10,
   "metadata": {},
   "outputs": [
    {
     "name": "stdout",
     "output_type": "stream",
     "text": [
      "Depth: 1 | Pruning: Enabled -> User Wins:  12, CPU Wins:  8, Ties:  0, Time: 0.73s\n",
      "Depth: 2 | Pruning: Enabled -> User Wins:  20, CPU Wins:  0, Ties:  0, Time: 2.55s\n",
      "Depth: 3 | Pruning: Enabled -> User Wins:  20, CPU Wins:  0, Ties:  0, Time: 7.36s\n",
      "Depth: 1 | Pruning: Disabled -> User Wins:  13, CPU Wins:  7, Ties:  0, Time: 0.56s\n",
      "Depth: 2 | Pruning: Disabled -> User Wins:  19, CPU Wins:  1, Ties:  0, Time: 3.92s\n",
      "Depth: 3 | Pruning: Disabled -> User Wins:  20, CPU Wins:  0, Ties:  0, Time: 18.60s\n"
     ]
    }
   ],
   "source": [
    "def check_results():\n",
    "    for pruning in [True, False]:  \n",
    "        for d in range(1, 4):\n",
    "            results = {-1: 0, 0: 0, 1: 0}\n",
    "            start = time()\n",
    "            for _ in range(20):  \n",
    "                game = Connect4Game(False, d, pruning)  \n",
    "                results[game.play()] += 1\n",
    "            end = time()\n",
    "            print_results(results, d, pruning, start, end)\n",
    "\n",
    "check_results()"
   ]
  },
  {
   "cell_type": "markdown",
   "metadata": {},
   "source": [
    "## Question 1:\n",
    "Deeper Search: The deeper the minimax algorithm searches, the more game states it evaluates and the more future moves it considers. This generally leads to a better move selection and increases the chances of winning.\n",
    "\n",
    "Exponential Growth: Each additional level of depth increases the number of possible game states the algorithm must evaluate exponentially. This is because each move typically generates multiple possible moves for the next level (for example, 7 possible moves in Connect4 if all columns are available).\n",
    "\n",
    "Alpha-Beta Pruning Efficiency: While alpha-beta pruning reduces the number of nodes that need to be evaluated, its effectiveness diminishes as the search depth grows, especially if the branching factor is high.\n",
    "\n",
    "Pruning Impact: With alpha-beta pruning, the number of nodes visited at deeper depths is less than without pruning. Pruning saves time by not exploring branches that won’t affect the outcome (note that since the opponent acts randomly we can not guarantee this fact!), but it doesn’t eliminate exponential growth entirely."
   ]
  },
  {
   "cell_type": "markdown",
   "metadata": {},
   "source": [
    "## Question 2:\n",
    "By sorting children ascending in max levels and descending in min levels we can prune all other nodes when we visit the first smaller/bigger node than the value we've found so far."
   ]
  },
  {
   "cell_type": "markdown",
   "metadata": {},
   "source": [
    "## Question 3:\n",
    "\n",
    "The branching factor in a game search algorithm like minimax refers to the average number of possible moves (or child nodes) that can be generated from any given state. In Connect4, the branching factor is based on the number of columns (usually 7), meaning that in the early stages of the game, the branching factor can be as high as 7, because all columns may be available for moves.\n",
    "\n",
    "However, the branching factor changes as the game progresses because some columns start to fill up. Once a column is completely filled, it’s no longer a valid move."
   ]
  },
  {
   "cell_type": "markdown",
   "metadata": {},
   "source": [
    "## Question 4:\n",
    "It does this by \"pruning\" branches of the search tree that cannot influence the final decision, thus saving computational resources while preserving the accuracy of the result.\n",
    "\n",
    "In the minimax algorithm, alpha represents the best score that the maximizer can guarantee up to a certain point, and beta represents the best score that the minimizer can guarantee. When evaluating nodes, if the minimizer finds a move that’s worse for the maximizer than what’s already been found (meaning it’s less than alpha), or vice versa, further exploration of that branch is unnecessary."
   ]
  },
  {
   "cell_type": "markdown",
   "metadata": {},
   "source": [
    "## Question 5: \n",
    "Minimax is not optimal when the opponent has randomness because it assumes that the opponent always makes the best possible move to minimize our score. However, when randomness is involved, the opponent’s moves can vary unpredictably, which introduces an element of chance that minimax doesn’t account for. Instead of deterministic moves, the game outcome now depends on the probability of various moves, and expectimax is a better approach for handling this probabilistic aspect."
   ]
  }
 ],
 "metadata": {
  "kernelspec": {
   "display_name": "Python 3",
   "language": "python",
   "name": "python3"
  },
  "language_info": {
   "codemirror_mode": {
    "name": "ipython",
    "version": 3
   },
   "file_extension": ".py",
   "mimetype": "text/x-python",
   "name": "python",
   "nbconvert_exporter": "python",
   "pygments_lexer": "ipython3",
   "version": "3.12.2"
  }
 },
 "nbformat": 4,
 "nbformat_minor": 2
}
